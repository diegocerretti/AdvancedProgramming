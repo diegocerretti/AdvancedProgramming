{
  "cells": [
    {
      "cell_type": "markdown",
      "metadata": {
        "id": "zyFWWgPiZyVo"
      },
      "source": [
        "#Sorting Images using EMD\n",
        "Consider a set of pictures from 360° camera mounted inside a merry-go-round. They were taken at night and only one seat is visible which emits light – the seat in the shape of a jelly fish. We know that the merry-go-round rotates clockwise and that all the pictures were taken during a single cycle of merry-go-round. Given that the first picture is P1, your task is to sort the rest in the chronological order. Assume that the move of jelly fish is monotonous in horizontal direction, i.e., it always moves in clockwise direction, never backwards.\n",
        "\n",
        "Input files: text files, each of them with 10 rows and 80 columns representing the brightness level in the given parts of the picture. Jelly fish can be recognized by high brightness (value 1 to 9) on a black background (value 0).\n",
        "\n",
        "```\n",
        "00000000000000000000000000000000000000000000000000000000000000000000000000000000\n",
        "00000000000000000000000000000000000000000000000000000000000000000000000000000000\n",
        "00000000000000000000000000000000000000000000000000000000000000000000000000000000\n",
        "00000000000000000000000000000000000000000000000000000000000000000000000000000000\n",
        "00000000000000000000000000000000000000000000000000000000000000000000000000000000\n",
        "00000000000000000000000000000000000005950000000000000000000000000000000000000000\n",
        "00000000000000000000000000000000000009990000000000000000000000000000000000000000\n",
        "00000000000000000000000000000000000005950000000000000000000000000000000000000000\n",
        "00000000000000000000000000000000000003930000000000000000000000000000000000000000\n",
        "00000000000000000000000000000000000000000000000000000000000000000000000000000000\n",
        "```\n",
        "###Directions\n",
        "In order to capture the movement of the jelly fish between two pictures, use Earth-mover distance, also known as Wasserstein distance. It can be formulated as a min-cost flow problem on a certain network. Use NetworkX package (https://networkx.org) to perform the optimization required to find this flow.\n",
        "\n",
        "About Earth-mover distance: Consider two distributions over a discrete set of points $P$: $μ$ in $[0,1]^P$ and $λ$ in $[0,1]^P$. Since both are distributions and sum of $μ(p)$ over all points in $P$ is $1$ (and the same holds for $λ$), there is surely a way to transform $μ$ into $λ$: we denote $f_{p,q}$ the probability mass transfered from point $p$ to $q$ for each pair of points $p,q$ from $P$, in order to transform $μ$ into $λ$:\n",
        "\n",
        "For each $p$ in $P$: $μ(p) = \\sum q f_{p,q}$ and for each $q$ in $P$: $λ(q) = Σ\n",
        "\\sum p f_{p,q}$.\n",
        "\n",
        "Note that $f_{p,p}$ denotes the probability mass which remains at the same place.\n",
        "Let $d(p,q)$ denote the distance between $p$ and $q$. Then, the cost of the transformation $f$ is\n",
        "\n",
        "$\\sum\\limits_{p,q} d(p,q) f_{p,q}$\n",
        "\n",
        "The earth-mover distance of μ and λ is then the cost of the cheapest transformation between $μ$ and $λ$.\n",
        "\n",
        "---\n",
        "\n"
      ]
    },
    {
      "cell_type": "markdown",
      "metadata": {
        "id": "5maA6uB-cOgX"
      },
      "source": [
        "##Solution"
      ]
    },
    {
      "cell_type": "code",
      "execution_count": null,
      "metadata": {
        "id": "Ig9amb2GQiJn"
      },
      "outputs": [],
      "source": [
        "import networkx as nx\n",
        "import numpy as np\n",
        "\n",
        "def comp_dist(f,g):\n",
        "    # if the two matrices are the same, we want the distance to be zero\n",
        "    if f == g:\n",
        "        distance = 0.0\n",
        "    else:\n",
        "        # initialise matrices of first and second file\n",
        "        m1 = np.zeros((10,80))\n",
        "        m2 = np.zeros((10,80))\n",
        "\n",
        "        # create matrix for first file\n",
        "        with open(f) as file:\n",
        "            for i, line in enumerate(file):\n",
        "                if line.strip():  # check if line is not empty\n",
        "                    m1[i] = [int(x) for x in line.strip()]\n",
        "\n",
        "        # create matrix for second file\n",
        "        with open(g) as file:\n",
        "            for i, line in enumerate(file):\n",
        "                if line.strip():  # check if line is not empty\n",
        "                    m2[i] = [int(x) for x in line.strip()]\n",
        "\n",
        "        a = int(np.sum(m1))\n",
        "        b = int(np.sum(m2))\n",
        "        for i in range(10):\n",
        "            for j in range(80):\n",
        "                m1[i,j] = round((m1[i,j] / a)*10000)\n",
        "                m2[i,j] = round((m2[i,j] / b)*10000)\n",
        "        # Let l1 and l2 be the lists of bright pixels and their relative positions in the corresponding matrices\n",
        "        l1 = []\n",
        "        l2 = []\n",
        "        for i in range(10):\n",
        "            for j in range(80):\n",
        "                if m1[i][j] != 0:\n",
        "                    l1.append((m1[i][j],i,j))\n",
        "        for i in range(10):\n",
        "            for j in range(80):\n",
        "                if m2[i][j] != 0:\n",
        "                    l2.append((m2[i][j],i,j))\n",
        "        g = nx.DiGraph()\n",
        "\n",
        "        for i in range(len(l1)):\n",
        "            g.add_node(l1[i], demand = -l1[i][0])\n",
        "        for i in range(len(l2)):\n",
        "            g.add_node(l2[i], demand =  l2[i][0])\n",
        "\n",
        "        for i in range(len(l1)):\n",
        "            for j in range(len(l2)):\n",
        "                g.add_edge(l1[i], l2[j], weight = (l2[j][2]-l1[i][2])%80)\n",
        "        distance = nx.min_cost_flow_cost(g)\n",
        "    return(distance)\n",
        "\n",
        "def sort_files():\n",
        "    files = []\n",
        "    for i in range(1,16):\n",
        "        files.append(f\"P{i}.txt\")\n",
        "    sorted_files = sorted(files, key = lambda x: comp_dist(\"P1.txt\", x))\n",
        "    return(sorted_files)"
      ]
    }
  ],
  "metadata": {
    "colab": {
      "provenance": []
    },
    "kernelspec": {
      "display_name": "Python 3",
      "name": "python3"
    },
    "language_info": {
      "codemirror_mode": {
        "name": "ipython",
        "version": 3
      },
      "file_extension": ".py",
      "mimetype": "text/x-python",
      "name": "python",
      "nbconvert_exporter": "python",
      "pygments_lexer": "ipython3",
      "version": "3.9.7"
    }
  },
  "nbformat": 4,
  "nbformat_minor": 0
}
