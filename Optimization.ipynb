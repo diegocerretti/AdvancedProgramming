{
  "nbformat": 4,
  "nbformat_minor": 0,
  "metadata": {
    "colab": {
      "provenance": []
    },
    "kernelspec": {
      "name": "python3",
      "display_name": "Python 3"
    },
    "language_info": {
      "name": "python"
    }
  },
  "cells": [
    {
      "cell_type": "markdown",
      "source": [
        "#LP Problems\n",
        "\n",
        "You should submit your python code as a solution. Use the PuLP library https://pypi.org/project/PuLP/ to solve the following problems. Documentation to PuLP can be found here: https://coin-or.github.io/pulp/main/index.html\n",
        "\n",
        "A few hints\n",
        "To surpress the messages from the solver, you can use `GLPK(msg = 0)` (if you use GLPK) or `PULP_CBC_CMD(msg=False)` (if you use CBC) or a similar option for other solvers as a solver parameter of `solve()` method. You can use function `value()` to evaluate any expression involving the variables in the optimal solution. If you need many variables, it might be good to introduce them using an array of their names using `dicts()` method and use the returned dictionary to access them.\n",
        "\n",
        "###Part 1 (10 points)\n",
        "Solve the following program:\n",
        "```\n",
        "       min 122x + 143y\n",
        "subject to:\n",
        "         x ≥ -10\n",
        "         y ≤  10\n",
        "  3x +  2y ≤  10\n",
        " 12x + 14y ≥ -12.5\n",
        "  2x +  3y ≥   3\n",
        "  5x -  6y ≥-100\n",
        "\n",
        "```\n",
        "Required output example:\n",
        "```\n",
        "Optimal solution: x = 0.1 y = -2.3\n",
        "Objective value: 100.1214\n",
        "Tight constraints:\n",
        "1\n",
        "2\n",
        "4\n",
        "Unique optimal solution: NO\n",
        "```\n",
        "So, your program should find the optimal solution, determine its objective value, identify the tight constraints and decide whether the optimal solution is unique.\n",
        "Note that, in $\\mathbb{R}^2$, there are only two directions perpendicular to the objective.\n",
        "\n",
        "###Part 2 (10 points)\n",
        "Find an optimal mixed strategy of the following game: Both players choose independently a single integer from 1 to 6. Then, the numbers are compared:\n",
        "\n",
        "If they are equal, there is a draw\n",
        "If they differ by 1, the player who played the smaller number gets 2EUR from the other player\n",
        "If they differ by ≥2, the player who played the larger number gets 1EUR from the other player\n",
        "Note that the game is symmetric and the same strategy is optimal for both players.\n",
        "Required output example:\n",
        "```\n",
        "x1: 0.2 x2: 0.1 x3: 0.2 x4: 0.1 x5: 0.2 x6: 0.2\n",
        "```\n",
        "###Part 3 (10 points)\n",
        "On some imaginary island, there are 69 companies and there are bilateral contracts between them. The monarch of the island would like to inspect validity of each of these contracts during a single large event. The monarch requires two representatives to represent each contract relationship (they can be both from the same party of the contract or each from a different one). This is of course satisfied by each company sending a single representative, which would require involvement of 69 representatives in total. However, the companies want to find a solution which minimizes the total number of representatives who need to attend the event.\n",
        "\n",
        "Input file hw1-03.txt contains information about the contracts. Each line corresponds to a single contract and contains identifiers (1-69) of both involved parties separated by a space.\n",
        "\n",
        "Example output:\n",
        "```\n",
        "representatives from company 1: 1.0\n",
        "representatives from company 2: 2.0\n",
        "representatives from company 3: 1.0\n",
        "...\n",
        "representatives from company 69: 1.0\n",
        "Total number of representatives involved: 58\n",
        "```\n",
        "**Important**: It is not possible to send an arbitrary fraction of a representative. However, it is enough to solve the LP relaxation since it already gives an integral solution. Reasons for this will be explained later in the class.\n",
        "\n",
        "---"
      ],
      "metadata": {
        "id": "vy_lOy1Necp4"
      }
    },
    {
      "cell_type": "markdown",
      "source": [
        "## Part 1"
      ],
      "metadata": {
        "id": "V3mGky_eIh8M"
      }
    },
    {
      "cell_type": "code",
      "source": [
        "# Import PuLP\n",
        "from pulp import *\n",
        "\n",
        "# Create the problem\n",
        "prob = LpProblem(\"Problem\", LpMinimize)\n",
        "\n",
        "#Create the variables\n",
        "x = LpVariable(\"x\", lowBound = -10, cat = \"Continuous\")\n",
        "y = LpVariable(\"y\", upBound = 10, cat = \"Continuous\")\n",
        "\n",
        "# Objective function\n",
        "prob += 122*x + 143*y\n",
        "\n",
        "# Constraints\n",
        "constraints=[0]*6\n",
        "constraints[0] = x >= -10\n",
        "constraints[1] = y <= 10\n",
        "constraints[2] = 3*x + 2*y <= 10\n",
        "constraints[3] = 12*x + 14*y >= -12.5\n",
        "constraints[4] = 2*x + 3*y >= 3\n",
        "constraints[5] = 5*x - 6*y >= -100\n",
        "\n",
        "for i in range(6):\n",
        "    prob += constraints[i]\n",
        "\n",
        "# Solve the problem\n",
        "prob.solve(PULP_CBC_CMD(msg=False))\n",
        "\n",
        "# Print the optimal solution\n",
        "print(f\"Optimal solution: x = {x.value()}, y = {y.value()}\")\n",
        "\n",
        "# Print its objective value\n",
        "print(f\"Objective value: {value(prob.objective)}\")\n",
        "\n",
        "# Print the tight constraints\n",
        "print(\"Tight constraints:\")\n",
        "if value(x) == -10:\n",
        "    print(1)\n",
        "if value(y) == 10:\n",
        "    print(2)\n",
        "if 3*value(x) + 2*value(y) == 10:\n",
        "    print(3)\n",
        "if 12*value(x) + 14*value(y) == -12.5:\n",
        "    print(4)\n",
        "if 2*value(x) + 3*value(y) == 3:\n",
        "    print(5)\n",
        "if 5*value(x) - 6*value(y) == -100:\n",
        "    print(6)\n"
      ],
      "metadata": {
        "colab": {
          "base_uri": "https://localhost:8080/"
        },
        "id": "qw_LYUUlIhTk",
        "outputId": "7a107647-5b5e-4ce8-a53d-8294cf2a4083"
      },
      "execution_count": 3,
      "outputs": [
        {
          "output_type": "stream",
          "name": "stdout",
          "text": [
            "Optimal solution: x = -9.9375, y = 7.625\n",
            "Objective value: -122.0\n",
            "Tight constraints:\n",
            "4\n",
            "5\n"
          ]
        }
      ]
    },
    {
      "cell_type": "markdown",
      "source": [
        "## Part 2"
      ],
      "metadata": {
        "id": "e3zs1EBoIxA9"
      }
    },
    {
      "cell_type": "code",
      "source": [
        "# Import PuLP and numpy\n",
        "import numpy as np\n",
        "from pulp import *\n",
        "\n",
        "# Create matrix\n",
        "rows, cols = 6,6\n",
        "M = np.zeros((rows, cols))\n",
        "for i in range (rows):\n",
        "    for j in range (cols):\n",
        "        if i==j:\n",
        "            M[i,j] = 0\n",
        "        elif i == j+1:\n",
        "            M[i,j] = -2\n",
        "        elif i > j+1:\n",
        "            M[i,j] = 1\n",
        "        elif i == j-1:\n",
        "            M[i,j] = 2\n",
        "        else:\n",
        "            M[i,j] = -1\n",
        "\n",
        "N = M.transpose()\n",
        "\n",
        "# Create the problem\n",
        "prob = LpProblem(\"Problem\", LpMaximize)\n",
        "\n",
        "# Create the variables\n",
        "x0 = LpVariable(\"x0\")\n",
        "variables = np.array([LpVariable(f\"x{i}\", lowBound=0) for i in range(1,7)])\n",
        "\n",
        "# Objective function\n",
        "prob += x0\n",
        "\n",
        "# Constraints\n",
        "for i in range(6):\n",
        "    prob += x0 <= variables*N[i]\n",
        "prob += sum(variables) == 1\n",
        "\n",
        "# Solve the problem\n",
        "prob.solve(PULP_CBC_CMD(msg=False))\n",
        "\n",
        "# Print the optimal solutions\n",
        "for i in range(6):\n",
        "    print(f\"x{i+1}: {variables[i].value()} \", end = '')"
      ],
      "metadata": {
        "colab": {
          "base_uri": "https://localhost:8080/"
        },
        "id": "aPtz4LSrI2wQ",
        "outputId": "36e1d6c3-c5bc-40a9-fbd2-42aed6b11815"
      },
      "execution_count": 4,
      "outputs": [
        {
          "output_type": "stream",
          "name": "stdout",
          "text": [
            "x1: 0.0 x2: 0.0625 x3: 0.3125 x4: 0.25 x5: 0.3125 x6: 0.0625 "
          ]
        }
      ]
    },
    {
      "cell_type": "markdown",
      "source": [
        "##Part 3"
      ],
      "metadata": {
        "id": "Vt0fTl3DIy6W"
      }
    },
    {
      "cell_type": "code",
      "source": [
        "# Import PuLP\n",
        "from pulp import *\n",
        "import numpy as np\n",
        "\n",
        "# Create matrix\n",
        "rows, cols = 69,69\n",
        "M = np.zeros((rows,cols))\n",
        "with open('hw1-03.txt') as f:\n",
        "    for line in f:\n",
        "        x, y = map(int, line.strip().split())\n",
        "        M[x-1][y-1] = 1\n",
        "        M[y-1][x-1] = 1\n",
        "\n",
        "# Define the problem\n",
        "prob = LpProblem(\"Minimum representatives problem\", LpMinimize)\n",
        "\n",
        "# Define the variables\n",
        "representatives = np.array([LpVariable\n",
        "                            (f\"representative for company number {i+1}\",\n",
        "                             lowBound=0, cat = int) for i in range(69)])\n",
        "\n",
        "# Define the objective function\n",
        "prob += lpSum(representatives)\n",
        "\n",
        "# Define the constraints\n",
        "\n",
        "for i in range(69):\n",
        "    prob += representatives[i] <= lpSum(M[i,j] for j in range(69))\n",
        "for i in range(69):\n",
        "    for j in range(69):\n",
        "        if M[i,j] == 1:\n",
        "            prob += representatives[i] + representatives[j] >= 2\n",
        "\n",
        "# Solve the problem\n",
        "prob.solve(PULP_CBC_CMD(msg=False))\n",
        "\n",
        "# Print the requested output\n",
        "for i in range(69):\n",
        "    print(f\"representatives from company {i+1}: {representatives[i].value()}\")"
      ],
      "metadata": {
        "colab": {
          "base_uri": "https://localhost:8080/"
        },
        "id": "E-aDJSfHIzyK",
        "outputId": "6a7a8319-7136-46ee-9ffa-e0676d6546ae"
      },
      "execution_count": 6,
      "outputs": [
        {
          "output_type": "stream",
          "name": "stdout",
          "text": [
            "representatives from company 1: 1.0\n",
            "representatives from company 2: 1.0\n",
            "representatives from company 3: 1.0\n",
            "representatives from company 4: 2.0\n",
            "representatives from company 5: 1.0\n",
            "representatives from company 6: 1.0\n",
            "representatives from company 7: 1.0\n",
            "representatives from company 8: 1.0\n",
            "representatives from company 9: 1.0\n",
            "representatives from company 10: 1.0\n",
            "representatives from company 11: 1.0\n",
            "representatives from company 12: 1.0\n",
            "representatives from company 13: 1.0\n",
            "representatives from company 14: 0.0\n",
            "representatives from company 15: 1.0\n",
            "representatives from company 16: 1.0\n",
            "representatives from company 17: 1.0\n",
            "representatives from company 18: 1.0\n",
            "representatives from company 19: 1.0\n",
            "representatives from company 20: 1.0\n",
            "representatives from company 21: 1.0\n",
            "representatives from company 22: 1.0\n",
            "representatives from company 23: 1.0\n",
            "representatives from company 24: 0.0\n",
            "representatives from company 25: 1.0\n",
            "representatives from company 26: 1.0\n",
            "representatives from company 27: 1.0\n",
            "representatives from company 28: 1.0\n",
            "representatives from company 29: 1.0\n",
            "representatives from company 30: 1.0\n",
            "representatives from company 31: 1.0\n",
            "representatives from company 32: 1.0\n",
            "representatives from company 33: 1.0\n",
            "representatives from company 34: 0.0\n",
            "representatives from company 35: 1.0\n",
            "representatives from company 36: 1.0\n",
            "representatives from company 37: 1.0\n",
            "representatives from company 38: 1.0\n",
            "representatives from company 39: 1.0\n",
            "representatives from company 40: 1.0\n",
            "representatives from company 41: 1.0\n",
            "representatives from company 42: 1.0\n",
            "representatives from company 43: 1.0\n",
            "representatives from company 44: 0.0\n",
            "representatives from company 45: 1.0\n",
            "representatives from company 46: 1.0\n",
            "representatives from company 47: 1.0\n",
            "representatives from company 48: 1.0\n",
            "representatives from company 49: 1.0\n",
            "representatives from company 50: 1.0\n",
            "representatives from company 51: 1.0\n",
            "representatives from company 52: 1.0\n",
            "representatives from company 53: 1.0\n",
            "representatives from company 54: 0.0\n",
            "representatives from company 55: 1.0\n",
            "representatives from company 56: 1.0\n",
            "representatives from company 57: 1.0\n",
            "representatives from company 58: 1.0\n",
            "representatives from company 59: 1.0\n",
            "representatives from company 60: 1.0\n",
            "representatives from company 61: 1.0\n",
            "representatives from company 62: 1.0\n",
            "representatives from company 63: 1.0\n",
            "representatives from company 64: 0.0\n",
            "representatives from company 65: 0.0\n",
            "representatives from company 66: 0.0\n",
            "representatives from company 67: 0.0\n",
            "representatives from company 68: 0.0\n",
            "representatives from company 69: 2.0\n"
          ]
        },
        {
          "output_type": "stream",
          "name": "stderr",
          "text": [
            "/usr/local/lib/python3.10/dist-packages/pulp/pulp.py:1352: UserWarning: Spaces are not permitted in the name. Converted to '_'\n",
            "  warnings.warn(\"Spaces are not permitted in the name. Converted to '_'\")\n"
          ]
        }
      ]
    }
  ]
}